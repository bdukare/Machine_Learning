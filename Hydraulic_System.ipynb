{
 "cells": [
  {
   "cell_type": "markdown",
   "metadata": {},
   "source": [
    "# Condition monitoring of hydraulic systems\n",
    "Objecttive of this assignment is to check weather operating parameters of test rig(Hydraulic System) are withing limit or not and thus predicting the condition using machine learning classification algorithm.Hydraulic test rig consists of 4 functional units(cooler, valve, pump and accumulator)  and these mechanical components are assessed  by 8 physical quantities(Pressure,Motor power,Volume flow,Temperature,Vibration,Efficiency factor,Virtual cooling efficiency,Virtual cooling power) and these quantities are measured by respective sensors at different rates like,reading/sec,10 reading/sec,100 reading/sec."
   ]
  },
  {
   "cell_type": "code",
   "execution_count": 478,
   "metadata": {},
   "outputs": [],
   "source": [
    "#basic imports\n",
    "import numpy as np\n",
    "import pandas as pd\n",
    "import seaborn as sb\n",
    "import matplotlib.pyplot as plt\n",
    "from sklearn.model_selection import train_test_split\n",
    "\n",
    "# imports for Model\n",
    "from sklearn.linear_model import LinearRegression,LogisticRegression\n",
    "from sklearn.svm.classes import SVC\n",
    "from sklearn.tree.tree import DecisionTreeClassifier\n",
    "from sklearn.naive_bayes import GaussianNB,BernoulliNB\n",
    "from sklearn.neighbors import KNeighborsClassifier,KNeighborsRegressor\n",
    "\n",
    "#import for scaling the features\n",
    "from sklearn.preprocessing import StandardScaler,MinMaxScaler\n",
    "\n",
    "# imports for models metrics to check the accuracy\n",
    "from sklearn.metrics import accuracy_score,f1_score,confusion_matrix,classification_report"
   ]
  },
  {
   "cell_type": "markdown",
   "metadata": {},
   "source": [
    "# Data loading and preprocessing\n",
    "We are having 2205 records and 5 attributes # df.shape=(2205, 5),\n",
    "we will asses the condition of hydraulic test rig using machine learning classification algorithm like Logistic Regression and Support Vector Machine(SVM) as there are only two outcome classes as \"Test rig is OK\" or \"Test rig is NOT OK\". This would be off line machine learning implementation that is model will be trained on given dataset  which was collected in past  but prediction would be  LIVE.Predictions would be Demonstrated through jupyter notebook with similar distribution dataset,extension to this work would be if we publish REST service using python framework and implemented corresponding UI\n",
    "0. Reindexed the full dataframe to avoid some sequnce or sorting/odering of data to train the model correctly and avoid some overfitting\n",
    "1. Three columns \"Cooler Condition\",\"Valve Condition\",\"Hydraulic Accumulator\" are divided by 100 to make them unified in scaling\n",
    "2. All values are normalized between range 0-2\n",
    "3. Histograms are plotted for all columns to just see the data distibution \n",
    "4. #\n"
   ]
  },
  {
   "cell_type": "code",
   "execution_count": 545,
   "metadata": {
    "scrolled": true
   },
   "outputs": [
    {
     "data": {
      "text/html": [
       "<div>\n",
       "<style scoped>\n",
       "    .dataframe tbody tr th:only-of-type {\n",
       "        vertical-align: middle;\n",
       "    }\n",
       "\n",
       "    .dataframe tbody tr th {\n",
       "        vertical-align: top;\n",
       "    }\n",
       "\n",
       "    .dataframe thead th {\n",
       "        text-align: right;\n",
       "    }\n",
       "</style>\n",
       "<table border=\"1\" class=\"dataframe\">\n",
       "  <thead>\n",
       "    <tr style=\"text-align: right;\">\n",
       "      <th></th>\n",
       "      <th>Cooler Condition</th>\n",
       "      <th>Valve Condition</th>\n",
       "      <th>Internal Pump Leakage</th>\n",
       "      <th>Hydraulic Accumulator</th>\n",
       "      <th>OK_NOT_OK</th>\n",
       "    </tr>\n",
       "  </thead>\n",
       "  <tbody>\n",
       "    <tr>\n",
       "      <th>1739</th>\n",
       "      <td>1.00</td>\n",
       "      <td>0.90</td>\n",
       "      <td>1</td>\n",
       "      <td>1.30</td>\n",
       "      <td>0</td>\n",
       "    </tr>\n",
       "    <tr>\n",
       "      <th>374</th>\n",
       "      <td>0.03</td>\n",
       "      <td>1.00</td>\n",
       "      <td>2</td>\n",
       "      <td>1.15</td>\n",
       "      <td>0</td>\n",
       "    </tr>\n",
       "    <tr>\n",
       "      <th>670</th>\n",
       "      <td>0.03</td>\n",
       "      <td>0.80</td>\n",
       "      <td>1</td>\n",
       "      <td>0.90</td>\n",
       "      <td>0</td>\n",
       "    </tr>\n",
       "    <tr>\n",
       "      <th>1593</th>\n",
       "      <td>1.00</td>\n",
       "      <td>1.00</td>\n",
       "      <td>0</td>\n",
       "      <td>0.90</td>\n",
       "      <td>1</td>\n",
       "    </tr>\n",
       "    <tr>\n",
       "      <th>1762</th>\n",
       "      <td>1.00</td>\n",
       "      <td>0.73</td>\n",
       "      <td>0</td>\n",
       "      <td>1.30</td>\n",
       "      <td>0</td>\n",
       "    </tr>\n",
       "  </tbody>\n",
       "</table>\n",
       "</div>"
      ],
      "text/plain": [
       "      Cooler Condition  Valve Condition  Internal Pump Leakage  \\\n",
       "1739              1.00             0.90                      1   \n",
       "374               0.03             1.00                      2   \n",
       "670               0.03             0.80                      1   \n",
       "1593              1.00             1.00                      0   \n",
       "1762              1.00             0.73                      0   \n",
       "\n",
       "      Hydraulic Accumulator  OK_NOT_OK  \n",
       "1739                   1.30          0  \n",
       "374                    1.15          0  \n",
       "670                    0.90          0  \n",
       "1593                   0.90          1  \n",
       "1762                   1.30          0  "
      ]
     },
     "execution_count": 545,
     "metadata": {},
     "output_type": "execute_result"
    }
   ],
   "source": [
    "extracted_features_path=\"D:\\ML_AI_Study\\Datasets\\condition_monitoring_of_hydraulic_systems\\extracted_features.csv\"\n",
    "df=pd.read_csv(extracted_features_path,sep=\",\")\n",
    "df=df.reindex(np.random.permutation(df.index))\n",
    "#df.shape\n",
    "\n",
    "Columns_ToBe_Transform=[\"Cooler Condition\",\"Valve Condition\",\"Internal Pump Leakage\",\"Hydraulic Accumulator\"]\n",
    "df[\"Cooler Condition\"]=df[\"Cooler Condition\"]/100\n",
    "df[\"Valve Condition\"]=df[\"Valve Condition\"]/100\n",
    "df[\"Hydraulic Accumulator\"]=df[\"Hydraulic Accumulator\"]/100\n",
    "#Histograms for all columns\n",
    "'''\n",
    "for col in df.columns:\n",
    "    df[col].hist()\n",
    "    plt.xlabel(col)\n",
    "    plt.show()\n",
    "'''\n",
    "df.head()\n",
    "#train, validate, test = np.split(df.sample(frac=1), [int(0.6*len(df)), int(0.8*len(df))])\n",
    "#train.shape"
   ]
  },
  {
   "cell_type": "markdown",
   "metadata": {},
   "source": [
    "seaborn boxplots are used to check if is there any outlier\n",
    "1. we do not found any outlier\n",
    "2. Boxplots are working on theory of IQR(The interquartile range).\n",
    "3. IQR is a measure of variability, based on dividing a data set into quartiles. Quartiles divide a rank-ordered data set into four equal parts. The values that divide each part are called the first, second, and third quartiles; and they are denoted by Q1, Q2, and Q3, respectively.)"
   ]
  },
  {
   "cell_type": "code",
   "execution_count": 480,
   "metadata": {},
   "outputs": [
    {
     "data": {
      "image/png": "[encoded data removed]",
      "text/plain": [
       "<Figure size 432x288 with 1 Axes>"
      ]
     },
     "metadata": {},
     "output_type": "display_data"
    }
   ],
   "source": [
    "sb.set_style(\"whitegrid\")\n",
    "ax = sb.boxplot(data=df, orient=\"h\", palette=\"Set3\")\n",
    "plt.show()"
   ]
  },
  {
   "cell_type": "markdown",
   "metadata": {},
   "source": [
    "Finally dropped the label column from dataframe and formed data and label to be used for further data processing\n",
    "1. 80% data is used to train the model\n",
    "2. 20% data will used to test the accuracy and to predict the results of model"
   ]
  },
  {
   "cell_type": "code",
   "execution_count": 518,
   "metadata": {},
   "outputs": [],
   "source": [
    "data=np.array(df.drop([\"OK_NOT_OK\"],axis=1))\n",
    "label=np.array(df[\"OK_NOT_OK\"])\n",
    "\n",
    "data_train,data_test,label_train,label_test=train_test_split(data,label,test_size=0.2)\n",
    "\n",
    "#data_train, X_val, label_train, y_val = train_test_split(data_train, label_train, test_size=0.1, random_state=1)\n",
    "\n",
    "#classifier=LinearRegression()\n",
    "#classifier=LinearDiscriminantAnalysis()\n",
    "#classifier=LogisticRegression()\n",
    "classifier=SVC()\n",
    "#classifier=KNeighborsClassifier()\n",
    "#classifier=DecisionTreeClassifier()\n",
    "#classifier=GaussianNB()\n",
    "#classifier.get_params()"
   ]
  },
  {
   "cell_type": "markdown",
   "metadata": {},
   "source": [
    "divided dataset is passed to classifier to train the selected data model"
   ]
  },
  {
   "cell_type": "code",
   "execution_count": 519,
   "metadata": {},
   "outputs": [
    {
     "data": {
      "text/plain": [
       "SVC(C=1.0, cache_size=200, class_weight=None, coef0=0.0,\n",
       "  decision_function_shape='ovr', degree=3, gamma='auto', kernel='rbf',\n",
       "  max_iter=-1, probability=False, random_state=None, shrinking=True,\n",
       "  tol=0.001, verbose=False)"
      ]
     },
     "execution_count": 519,
     "metadata": {},
     "output_type": "execute_result"
    }
   ],
   "source": [
    "classifier.fit(data_train,label_train)\n",
    "#classifier_obj.get_params"
   ]
  },
  {
   "cell_type": "markdown",
   "metadata": {},
   "source": [
    "# Model metrics"
   ]
  },
  {
   "cell_type": "code",
   "execution_count": 520,
   "metadata": {},
   "outputs": [
    {
     "name": "stdout",
     "output_type": "stream",
     "text": [
      "accuracy_score:0.9229024943310657\n",
      "confusion_matrix:[[252  33]\n",
      " [  1 155]]\n",
      "classification_report:             precision    recall  f1-score   support\n",
      "\n",
      "          0       1.00      0.88      0.94       285\n",
      "          1       0.82      0.99      0.90       156\n",
      "\n",
      "avg / total       0.94      0.92      0.92       441\n",
      "\n"
     ]
    }
   ],
   "source": [
    "some_data=[[0.03,0.46,0.0,2]]\n",
    "predictions=classifier.predict(data_test)\n",
    "#predictions\n",
    "print(\"accuracy_score:\"+str(accuracy_score(label_test, predictions)))\n",
    "print(\"confusion_matrix:\"+str(confusion_matrix(label_test, predictions)))\n",
    "print(\"classification_report:\"+str(classification_report(label_test, predictions)))"
   ]
  },
  {
   "cell_type": "markdown",
   "metadata": {},
   "source": [
    "# Model Tuning and Model Evaluation\n",
    "data is transfomed to MinMaxScaler and StandardScaler and checked whether efficiency is going to increase"
   ]
  },
  {
   "cell_type": "code",
   "execution_count": 522,
   "metadata": {
    "scrolled": true
   },
   "outputs": [
    {
     "data": {
      "text/plain": [
       "SVC(C=4.0, cache_size=200, class_weight=None, coef0=0.0,\n",
       "  decision_function_shape='ovr', degree=3, gamma='auto', kernel='rbf',\n",
       "  max_iter=-1, probability=False, random_state=None, shrinking=True,\n",
       "  tol=0.001, verbose=False)"
      ]
     },
     "execution_count": 522,
     "metadata": {},
     "output_type": "execute_result"
    }
   ],
   "source": [
    "#data = StandardScaler().fit_transform(data)\n",
    "#type(data)\n",
    "# data is transfomed to MinMaxScaler\n",
    "data = MinMaxScaler().fit_transform(data)\n",
    "data_train,data_test,label_train,label_test=train_test_split(data,label,test_size=0.2)\n",
    "classifier=SVC(C=4.0)\n",
    "#classifier=LogisticRegression(C=4.0)\n",
    "classifier.fit(data_train,label_train)"
   ]
  },
  {
   "cell_type": "code",
   "execution_count": 523,
   "metadata": {},
   "outputs": [
    {
     "name": "stdout",
     "output_type": "stream",
     "text": [
      "accuracy_score:0.9501133786848073\n",
      "confusion_matrix:[[264  19]\n",
      " [  3 155]]\n",
      "classification_report:             precision    recall  f1-score   support\n",
      "\n",
      "          0       0.99      0.93      0.96       283\n",
      "          1       0.89      0.98      0.93       158\n",
      "\n",
      "avg / total       0.95      0.95      0.95       441\n",
      "\n"
     ]
    }
   ],
   "source": [
    "predictions=classifier.predict(data_test)\n",
    "#prediction\n",
    "print(\"accuracy_score:\"+str(accuracy_score(label_test, predictions)))\n",
    "print(\"confusion_matrix:\"+str(confusion_matrix(label_test, predictions)))\n",
    "print(\"classification_report:\"+str(classification_report(label_test, predictions)))"
   ]
  },
  {
   "cell_type": "markdown",
   "metadata": {},
   "source": [
    "# Real World Test\n",
    "now lets see how model behaves for external real time data"
   ]
  },
  {
   "cell_type": "code",
   "execution_count": 721,
   "metadata": {},
   "outputs": [
    {
     "name": "stdout",
     "output_type": "stream",
     "text": [
      "System is NOT OK\n",
      "System is OK\n",
      "System is NOT OK\n",
      "System is OK\n"
     ]
    }
   ],
   "source": [
    "row_number=[70,250,200,220]\n",
    "Tenth_row=data_test[70]\n",
    "Hundredth_row=data_test[250]\n",
    "Two_Hundredth_row=data_test[200]\n",
    "Random_row=data_test[220]\n",
    "\n",
    "Test_Array=np.array([Tenth_row,Hundredth_row,Two_Hundredth_row,Random_row])\n",
    "\n",
    "for row in Test_Array:\n",
    "    #print(row)\n",
    "    predictions=classifier.predict([row])\n",
    "    if predictions[0]==0:\n",
    "        print(\"System is OK\")\n",
    "    else:\n",
    "        print(\"System is NOT OK\")\n",
    "    \n",
    "#print(\"System is \",predictions[0])\n",
    "#predictions=classifier.predict([Random_row])\n",
    "#predictions[0]\n",
    "#label_test[220]\n",
    "#data_test[220]"
   ]
  },
  {
   "cell_type": "code",
   "execution_count": 688,
   "metadata": {},
   "outputs": [],
   "source": [
    "#Real_sample_input_1=np.array([[100,100,0,90]]) #1\n",
    "#Real_sample_input_2=[[3],[90],[2],[130]] #0\n",
    "#Real_sample_input_3=[[20],[80],[2],[130]] #0\n",
    "#transformed=MinMaxScaler().fit_transform(pd.DataFrame(Real_sample_input_1))"
   ]
  },
  {
   "cell_type": "code",
   "execution_count": null,
   "metadata": {},
   "outputs": [],
   "source": []
  },
  {
   "cell_type": "code",
   "execution_count": null,
   "metadata": {},
   "outputs": [],
   "source": []
  }
 ],
 "metadata": {
  "kernelspec": {
   "display_name": "Python 3",
   "language": "python",
   "name": "python3"
  },
  "language_info": {
   "codemirror_mode": {
    "name": "ipython",
    "version": 3
   },
   "file_extension": ".py",
   "mimetype": "text/x-python",
   "name": "python",
   "nbconvert_exporter": "python",
   "pygments_lexer": "ipython3",
   "version": "3.6.4"
  }
 },
 "nbformat": 4,
 "nbformat_minor": 2
}
